{
 "cells": [
  {
   "cell_type": "markdown",
   "id": "05ac9f61",
   "metadata": {},
   "source": [
    "# Computer Programming"
   ]
  },
  {
   "cell_type": "markdown",
   "id": "d73f073b",
   "metadata": {},
   "source": [
    "## Programs 3: Making Tables\n",
    "\n",
    "Last week's programs all had a _linear_ flow; the statements executed in order from top to bottom. You might remember the\n",
    "three elements of a program (it was in the lecture, OK?):\n",
    "* Sequence\n",
    "* Iteration\n",
    "* Selection\n",
    "\n",
    "So last week's programs were all about _Sequence_. This week we will create some programs that use _Iteration_. This is\n",
    "a grand word that basically just means that some statements in the program will be executed more than once or, if you prefer,\n",
    "will be repeated. Specifically, the programs here will generate tables of data.\n",
    "\n",
    "And, as before, we will be following the _Happy Path_, and assuming that the user will enter useful values. Not likely, but it\n",
    "will keep things simple for now!"
   ]
  },
  {
   "cell_type": "markdown",
   "id": "2af192fa",
   "metadata": {},
   "source": [
    "As usual, once finished, make sure this Notebook ends up in your GitHub repo. You should know the commands by now!"
   ]
  },
  {
   "cell_type": "markdown",
   "id": "c041fa17",
   "metadata": {},
   "source": [
    "## Practice\n",
    "\n",
    "Before starting the programs, use the boxes and prompts below to write and test some simple loops. Create a new code block below\n",
    "each Markdown section. Add more if you want."
   ]
  },
  {
   "cell_type": "markdown",
   "id": "93f7721a",
   "metadata": {},
   "source": [
    "_With a `for` loop, print out the integers from 1 to 10, inclusive._"
   ]
  },
  {
   "metadata": {},
   "cell_type": "code",
   "source": [
    "for count in range(10):\n",
    "    print(count)"
   ],
   "id": "b80775d7b52bbbaf",
   "outputs": [],
   "execution_count": null
  },
  {
   "cell_type": "markdown",
   "id": "f3713620",
   "metadata": {},
   "source": [
    "_With a `while` loop, print out the integers from 1 to 10, inclusive._"
   ]
  },
  {
   "metadata": {},
   "cell_type": "code",
   "source": [
    "number = 0\n",
    "while number < 10:\n",
    "    print(number)\n",
    "    number += 1\n"
   ],
   "id": "5f000d880dfe7989",
   "outputs": [],
   "execution_count": null
  },
  {
   "cell_type": "markdown",
   "id": "f25868ec",
   "metadata": {},
   "source": [
    "_Print the integers from 10 to 1, **backwards**, and then the message `Blast Off!`. Do it with a `for` and then a `while`. Which\n",
    "is best?_"
   ]
  },
  {
   "metadata": {},
   "cell_type": "code",
   "source": [
    "count = 10\n",
    "while count > 0:\n",
    "    print(count)\n",
    "    count -= 1\n",
    "print('Blast Off!')"
   ],
   "id": "99520d7ddb1f8777",
   "outputs": [],
   "execution_count": null
  },
  {
   "metadata": {},
   "cell_type": "code",
   "source": [
    "for count in range(10, 0, -1):\n",
    "    print(count)\n",
    "print('Blast Off!')"
   ],
   "id": "6fd4379cf2da4dcf",
   "outputs": [],
   "execution_count": null
  },
  {
   "cell_type": "markdown",
   "id": "1134128f",
   "metadata": {},
   "source": [
    "_Using whichever you want, calculate the sum of the integers from 1 to 10 inclusive._"
   ]
  },
  {
   "metadata": {},
   "cell_type": "code",
   "source": [
    "total = 0\n",
    "for count in range(1, 11):\n",
    "    total += count\n",
    "print(total)"
   ],
   "id": "420e713f634d1507",
   "outputs": [],
   "execution_count": null
  },
  {
   "cell_type": "markdown",
   "id": "c65e9987",
   "metadata": {},
   "source": [
    "_How about the **even** numbers between 2 and 20, inclusive?_"
   ]
  },
  {
   "cell_type": "markdown",
   "id": "5bd8322c",
   "metadata": {},
   "source": [
    "_Print out each character in the string `Elderberry` on a separate line._"
   ]
  },
  {
   "metadata": {},
   "cell_type": "code",
   "source": [
    "for c in \"Elderberry\":\n",
    "    print(c)"
   ],
   "id": "977849be7d12a23d",
   "outputs": [],
   "execution_count": null
  },
  {
   "cell_type": "markdown",
   "id": "e5f07675",
   "metadata": {},
   "source": [
    "_Display a prompt to your user (something like `What is your favourite colour? `), and keep doing that until they\n",
    "enter `blue`. Use a different colour if your favourite colour is not blue._"
   ]
  },
  {
   "metadata": {
    "ExecuteTime": {
     "end_time": "2025-10-20T09:24:54.687481Z",
     "start_time": "2025-10-20T09:24:39.111762Z"
    }
   },
   "cell_type": "code",
   "source": [
    "while True:\n",
    "    colour = input('What is your favourite colour?')\n",
    "    if colour == 'blue':\n",
    "        break"
   ],
   "id": "913780f0b09307d8",
   "outputs": [],
   "execution_count": 7
  },
  {
   "cell_type": "markdown",
   "id": "8b6010e9",
   "metadata": {},
   "source": [
    "_Read in a string, and print it out reversed._\n",
    "\n",
    "_(OK. This is a trick question. You don't need a loop. Sorry.)_"
   ]
  },
  {
   "metadata": {
    "ExecuteTime": {
     "end_time": "2025-10-20T09:26:06.011106Z",
     "start_time": "2025-10-20T09:26:01.717354Z"
    }
   },
   "cell_type": "code",
   "source": [
    "colour = input('What is your favourite colour?')\n",
    "print(f'Your favourite colour is {colour}. Backwards that is {colour[::-1]}.')"
   ],
   "id": "68c6baccb115b693",
   "outputs": [
    {
     "name": "stdout",
     "output_type": "stream",
     "text": [
      "Your favourite colour is blue. Backwards that is eulb.\n"
     ]
    }
   ],
   "execution_count": 8
  },
  {
   "cell_type": "markdown",
   "id": "3e8c4a33",
   "metadata": {},
   "source": [
    "## The Programs\n",
    "\n",
    "That's enough. Sorry about the last one.\n",
    "\n",
    "Now to try out these ideas in some programs that actually do something (vaguely) useful."
   ]
  },
  {
   "cell_type": "markdown",
   "id": "d32abbd2",
   "metadata": {},
   "source": [
    "_In the box below, add a program that prompts the user to enter a weight in ounces, and displays the equivalent in grams. (There is no repetition in this one!)_\n",
    "\n",
    "_To save you the Google, there are 28.3495 grams in an ounce._"
   ]
  },
  {
   "cell_type": "code",
   "id": "b6ded19d",
   "metadata": {
    "ExecuteTime": {
     "end_time": "2025-10-20T09:28:34.322413Z",
     "start_time": "2025-10-20T09:28:24.782901Z"
    }
   },
   "source": [
    "ounces = int(input('Enter weight in ounces): '))\n",
    "grams = ounces * 28.3495\n",
    "print(f'In grams that is {grams:.2f}.')\n"
   ],
   "outputs": [
    {
     "name": "stdout",
     "output_type": "stream",
     "text": [
      "In grams that is 226.80.\n"
     ]
    }
   ],
   "execution_count": 9
  },
  {
   "cell_type": "markdown",
   "id": "ad6e5fde",
   "metadata": {},
   "source": [
    "_There are 16 ounces in a pound. Isn't the Imperial system great? Write a program that displays the equivalent grams for every integer value of ounces between 0 and 16 inclusive. Use a `for` loop._"
   ]
  },
  {
   "cell_type": "code",
   "id": "39819c57",
   "metadata": {
    "ExecuteTime": {
     "end_time": "2025-10-20T09:30:28.930141Z",
     "start_time": "2025-10-20T09:30:28.925686Z"
    }
   },
   "source": [
    "for ounces in range(17):\n",
    "    grams = ounces * 28.3495\n",
    "    print(f'{ounces:>2} oz:  {grams:>6.2f} g')\n"
   ],
   "outputs": [
    {
     "name": "stdout",
     "output_type": "stream",
     "text": [
      " 0 oz:    0.00 g\n",
      " 1 oz:   28.35 g\n",
      " 2 oz:   56.70 g\n",
      " 3 oz:   85.05 g\n",
      " 4 oz:  113.40 g\n",
      " 5 oz:  141.75 g\n",
      " 6 oz:  170.10 g\n",
      " 7 oz:  198.45 g\n",
      " 8 oz:  226.80 g\n",
      " 9 oz:  255.15 g\n",
      "10 oz:  283.50 g\n",
      "11 oz:  311.84 g\n",
      "12 oz:  340.19 g\n",
      "13 oz:  368.54 g\n",
      "14 oz:  396.89 g\n",
      "15 oz:  425.24 g\n",
      "16 oz:  453.59 g\n"
     ]
    }
   ],
   "execution_count": 13
  },
  {
   "cell_type": "markdown",
   "id": "14fcaa0e",
   "metadata": {},
   "source": [
    "_This is a determinate loop, so a `for` was the right choice. But for comparison, write a version using a `while` loop below._"
   ]
  },
  {
   "cell_type": "code",
   "id": "ca9c8144",
   "metadata": {},
   "source": [],
   "outputs": [],
   "execution_count": null
  },
  {
   "cell_type": "markdown",
   "id": "5a3a708b",
   "metadata": {},
   "source": [
    "_\"Ten Green Bottles\" is a well known (and tedious) children's song. See https://en.wikipedia.org/wiki/Ten_Green_Bottles for the details. Write two programs that print out the lyrics of this song (use digits for the numbers). One version of your program should use a `for`, the other a `while`._"
   ]
  },
  {
   "cell_type": "code",
   "id": "97b49e1e",
   "metadata": {},
   "source": [],
   "outputs": [],
   "execution_count": null
  },
  {
   "cell_type": "code",
   "id": "51505c4c",
   "metadata": {},
   "source": [],
   "outputs": [],
   "execution_count": null
  },
  {
   "cell_type": "markdown",
   "id": "a9b82e49",
   "metadata": {},
   "source": [
    "_When purchasing milk, most people think in terms of pints. But supermarkets usually sell milk in litres. Write a program that\n",
    "displays the number of pints in milk containers of 1, 2, 4, and 8 litres._\n",
    "\n",
    "_Hint: Look closely at the sequence of values. You can use repetition here._"
   ]
  },
  {
   "cell_type": "code",
   "id": "4d506d3f",
   "metadata": {
    "ExecuteTime": {
     "end_time": "2025-10-20T09:33:21.889138Z",
     "start_time": "2025-10-20T09:33:21.884985Z"
    }
   },
   "source": [
    "for litres in [1, 2, 4, 8]:\n",
    "    print(f'{litres:>2} litres: {litres * 1.75975:>5.2f} pints')"
   ],
   "outputs": [
    {
     "name": "stdout",
     "output_type": "stream",
     "text": [
      " 1 litres:  1.76 pints\n",
      " 2 litres:  3.52 pints\n",
      " 4 litres:  7.04 pints\n",
      " 8 litres: 14.08 pints\n"
     ]
    }
   ],
   "execution_count": 15
  },
  {
   "cell_type": "markdown",
   "id": "66cbce4b",
   "metadata": {},
   "source": [
    "_Time to draw some shapes. Write a program that prompts the user to enter an integer, and then draws a square made up of `#` characters. The number of characters on each side should be the value the user entered._"
   ]
  },
  {
   "cell_type": "code",
   "id": "390c7f3b",
   "metadata": {},
   "source": [],
   "outputs": [],
   "execution_count": null
  },
  {
   "cell_type": "markdown",
   "id": "36e06057",
   "metadata": {},
   "source": [
    "_Add a different version of the program below that can draw a rectangle. The difference will be that the two sides are not the same, so you will need two values to be entered._"
   ]
  },
  {
   "cell_type": "code",
   "id": "e9e23784",
   "metadata": {},
   "source": [],
   "outputs": [],
   "execution_count": null
  },
  {
   "cell_type": "markdown",
   "id": "4cfa8e17",
   "metadata": {},
   "source": [
    "_Finally, try a triangle. The value to be entered should be the height. The first row will have one `#`, the second two, and so on until the height._"
   ]
  },
  {
   "cell_type": "code",
   "id": "386f0d87",
   "metadata": {},
   "source": [],
   "outputs": [],
   "execution_count": null
  },
  {
   "cell_type": "markdown",
   "id": "8aa985ad",
   "metadata": {},
   "source": [
    "_Last one. Take one of your \"shapes\" programs, and extend so that it keeps running. After displaying a shape it should\n",
    "prompt your user to enter `Y` if they want to see another. Carry on until they don't enter `Y`._\n",
    "\n",
    "_Hint: This is easiest if you also use \"Selection\", but you can get by without. Up to you._"
   ]
  },
  {
   "cell_type": "code",
   "id": "90cdf29b",
   "metadata": {},
   "source": [],
   "outputs": [],
   "execution_count": null
  },
  {
   "cell_type": "markdown",
   "id": "73aead26",
   "metadata": {},
   "source": [
    "## Reflection\n",
    "\n",
    "As usual, before you file these programs away, see what patterns you can spot. Programming is all about recognising patterns,\n",
    "and using them again later. It's called *Abstraction*.\n",
    "\n",
    "If you struggled with any of these, remember that this is what your friendly tutor is for. Feel free to ask them, or indeed to\n",
    "call on your friendly AI assistant."
   ]
  }
 ],
 "metadata": {
  "kernelspec": {
   "display_name": "venv",
   "language": "python",
   "name": "python3"
  },
  "language_info": {
   "codemirror_mode": {
    "name": "ipython",
    "version": 3
   },
   "file_extension": ".py",
   "mimetype": "text/x-python",
   "name": "python",
   "nbconvert_exporter": "python",
   "pygments_lexer": "ipython3",
   "version": "3.13.7"
  }
 },
 "nbformat": 4,
 "nbformat_minor": 5
}
